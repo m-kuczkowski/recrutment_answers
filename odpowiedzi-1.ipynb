{
 "cells": [
  {
   "cell_type": "code",
   "execution_count": 4,
   "metadata": {
    "vscode": {
     "languageId": "sql"
    }
   },
   "outputs": [],
   "source": [
    "with date_cleared as(\n",
    "SELECT substr(datetime(substr(event_timestamp, 1, 10), 'unixepoch'),1,10) as date, event_name FROM events\n",
    "WHERE date > date('now', '-13 day'))\n",
    "\n",
    "SELECT count(event_name) FROM date_cleared\n",
    "WHERE event_name = \"page_view\""
   ]
  },
  {
   "cell_type": "code",
   "execution_count": 5,
   "metadata": {
    "vscode": {
     "languageId": "sql"
    }
   },
   "outputs": [],
   "source": [
    "with date_cleared as(\n",
    "SELECT substr(datetime(substr(event_timestamp, 1, 10), 'unixepoch'),1,10) as date, \n",
    "  event_name, user_id\n",
    "FROM events\n",
    "WHERE date > date('now', '-13 day'))\n",
    "\n",
    "SELECT date, count(distinct(user_id)) as liczba_uzyt FROM date_cleared\n",
    "WHERE event_name = \"page_view\"\n",
    "GROUP BY date\n",
    "ORDER BY date asc\n"
   ]
  },
  {
   "cell_type": "code",
   "execution_count": null,
   "metadata": {
    "vscode": {
     "languageId": "sql"
    }
   },
   "outputs": [],
   "source": [
    "with date_cleared as(\n",
    "SELECT substr(datetime(substr(event_timestamp, 1, 10), 'unixepoch'),1,10) as date, \n",
    "  event_name, user_id\n",
    "FROM events\n",
    "WHERE date > date('now', '-13 day'))\n",
    "\n",
    "SELECT\n",
    "    user_id,\n",
    "    date,\n",
    "    LAST_VALUE ( event_name ) OVER (\n",
    "        ORDER BY date \n",
    "    ) AS last_event \n",
    "FROM date_cleared \n",
    "LIMIT 10\n"
   ]
  }
 ],
 "metadata": {
  "kernelspec": {
   "display_name": "Python 3.10.7 64-bit",
   "language": "python",
   "name": "python3"
  },
  "language_info": {
   "codemirror_mode": {
    "name": "ipython",
    "version": 3
   },
   "file_extension": ".py",
   "mimetype": "text/x-python",
   "name": "python",
   "nbconvert_exporter": "python",
   "pygments_lexer": "ipython3",
   "version": "3.10.7"
  },
  "orig_nbformat": 4,
  "vscode": {
   "interpreter": {
    "hash": "aee8b7b246df8f9039afb4144a1f6fd8d2ca17a180786b69acc140d282b71a49"
   }
  }
 },
 "nbformat": 4,
 "nbformat_minor": 2
}
