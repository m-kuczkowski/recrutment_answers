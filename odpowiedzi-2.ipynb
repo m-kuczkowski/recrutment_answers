{
 "cells": [
  {
   "cell_type": "code",
   "execution_count": 84,
   "metadata": {},
   "outputs": [],
   "source": [
    "import json\n",
    "import pandas as pd"
   ]
  },
  {
   "cell_type": "code",
   "execution_count": 85,
   "metadata": {},
   "outputs": [],
   "source": [
    "data = open('article.json')\n",
    "data = json.load(data)"
   ]
  },
  {
   "cell_type": "code",
   "execution_count": 86,
   "metadata": {},
   "outputs": [
    {
     "data": {
      "text/plain": [
       "dict_keys(['blocks', 'entityMap'])"
      ]
     },
     "execution_count": 86,
     "metadata": {},
     "output_type": "execute_result"
    }
   ],
   "source": [
    "data.keys()"
   ]
  },
  {
   "cell_type": "code",
   "execution_count": 87,
   "metadata": {},
   "outputs": [],
   "source": [
    "blocks = data['blocks']"
   ]
  },
  {
   "cell_type": "markdown",
   "metadata": {},
   "source": [
    "### 1. Ilość znaków w treści (type = \"unstyled\")."
   ]
  },
  {
   "cell_type": "code",
   "execution_count": 88,
   "metadata": {},
   "outputs": [
    {
     "data": {
      "text/html": [
       "<div>\n",
       "<style scoped>\n",
       "    .dataframe tbody tr th:only-of-type {\n",
       "        vertical-align: middle;\n",
       "    }\n",
       "\n",
       "    .dataframe tbody tr th {\n",
       "        vertical-align: top;\n",
       "    }\n",
       "\n",
       "    .dataframe thead th {\n",
       "        text-align: right;\n",
       "    }\n",
       "</style>\n",
       "<table border=\"1\" class=\"dataframe\">\n",
       "  <thead>\n",
       "    <tr style=\"text-align: right;\">\n",
       "      <th></th>\n",
       "      <th>key</th>\n",
       "      <th>data</th>\n",
       "      <th>text</th>\n",
       "      <th>type</th>\n",
       "      <th>depth</th>\n",
       "      <th>entityRanges</th>\n",
       "      <th>inlineStyleRanges</th>\n",
       "    </tr>\n",
       "  </thead>\n",
       "  <tbody>\n",
       "    <tr>\n",
       "      <th>0</th>\n",
       "      <td>c0u3k</td>\n",
       "      <td>{}</td>\n",
       "      <td>Podczas gdy PiS ucieka od tematu aborcji, chcą...</td>\n",
       "      <td>unstyled</td>\n",
       "      <td>0</td>\n",
       "      <td>[]</td>\n",
       "      <td>[]</td>\n",
       "    </tr>\n",
       "    <tr>\n",
       "      <th>1</th>\n",
       "      <td>7avvq</td>\n",
       "      <td>{}</td>\n",
       "      <td></td>\n",
       "      <td>atomic</td>\n",
       "      <td>0</td>\n",
       "      <td>[{'key': 0, 'length': 1, 'offset': 0}]</td>\n",
       "      <td>[]</td>\n",
       "    </tr>\n",
       "    <tr>\n",
       "      <th>2</th>\n",
       "      <td>52e7f</td>\n",
       "      <td>{}</td>\n",
       "      <td></td>\n",
       "      <td>unstyled</td>\n",
       "      <td>0</td>\n",
       "      <td>[]</td>\n",
       "      <td>[]</td>\n",
       "    </tr>\n",
       "    <tr>\n",
       "      <th>3</th>\n",
       "      <td>dfk3v</td>\n",
       "      <td>{}</td>\n",
       "      <td></td>\n",
       "      <td>atomic</td>\n",
       "      <td>0</td>\n",
       "      <td>[{'key': 1, 'length': 1, 'offset': 0}]</td>\n",
       "      <td>[]</td>\n",
       "    </tr>\n",
       "    <tr>\n",
       "      <th>4</th>\n",
       "      <td>akka4</td>\n",
       "      <td>{}</td>\n",
       "      <td>\\n</td>\n",
       "      <td>atomic</td>\n",
       "      <td>0</td>\n",
       "      <td>[{'key': 2, 'length': 1, 'offset': 0}]</td>\n",
       "      <td>[]</td>\n",
       "    </tr>\n",
       "    <tr>\n",
       "      <th>5</th>\n",
       "      <td>bun0n</td>\n",
       "      <td>{}</td>\n",
       "      <td></td>\n",
       "      <td>atomic</td>\n",
       "      <td>0</td>\n",
       "      <td>[{'key': 3, 'length': 1, 'offset': 0}]</td>\n",
       "      <td>[]</td>\n",
       "    </tr>\n",
       "    <tr>\n",
       "      <th>6</th>\n",
       "      <td>95vk3</td>\n",
       "      <td>{}</td>\n",
       "      <td>Sondaż pokazuje na słabnący wpływ katolickiej ...</td>\n",
       "      <td>unstyled</td>\n",
       "      <td>0</td>\n",
       "      <td>[{'key': 4, 'length': 6, 'offset': 0}]</td>\n",
       "      <td>[]</td>\n",
       "    </tr>\n",
       "    <tr>\n",
       "      <th>7</th>\n",
       "      <td>86fk5</td>\n",
       "      <td>{}</td>\n",
       "      <td>Od 1993 roku (z półroczna przerwą w 1997) obow...</td>\n",
       "      <td>unstyled</td>\n",
       "      <td>0</td>\n",
       "      <td>[{'key': 5, 'length': 46, 'offset': 337}]</td>\n",
       "      <td>[]</td>\n",
       "    </tr>\n",
       "    <tr>\n",
       "      <th>8</th>\n",
       "      <td>e75b7</td>\n",
       "      <td>{}</td>\n",
       "      <td></td>\n",
       "      <td>atomic</td>\n",
       "      <td>0</td>\n",
       "      <td>[{'key': 6, 'length': 1, 'offset': 0}]</td>\n",
       "      <td>[]</td>\n",
       "    </tr>\n",
       "    <tr>\n",
       "      <th>9</th>\n",
       "      <td>cqo55</td>\n",
       "      <td>{}</td>\n",
       "      <td></td>\n",
       "      <td>unstyled</td>\n",
       "      <td>0</td>\n",
       "      <td>[]</td>\n",
       "      <td>[]</td>\n",
       "    </tr>\n",
       "  </tbody>\n",
       "</table>\n",
       "</div>"
      ],
      "text/plain": [
       "     key data                                               text      type  \\\n",
       "0  c0u3k   {}  Podczas gdy PiS ucieka od tematu aborcji, chcą...  unstyled   \n",
       "1  7avvq   {}                                                       atomic   \n",
       "2  52e7f   {}                                                     unstyled   \n",
       "3  dfk3v   {}                                                       atomic   \n",
       "4  akka4   {}                                                \\n     atomic   \n",
       "5  bun0n   {}                                                       atomic   \n",
       "6  95vk3   {}  Sondaż pokazuje na słabnący wpływ katolickiej ...  unstyled   \n",
       "7  86fk5   {}  Od 1993 roku (z półroczna przerwą w 1997) obow...  unstyled   \n",
       "8  e75b7   {}                                                       atomic   \n",
       "9  cqo55   {}                                                     unstyled   \n",
       "\n",
       "   depth                               entityRanges inlineStyleRanges  \n",
       "0      0                                         []                []  \n",
       "1      0     [{'key': 0, 'length': 1, 'offset': 0}]                []  \n",
       "2      0                                         []                []  \n",
       "3      0     [{'key': 1, 'length': 1, 'offset': 0}]                []  \n",
       "4      0     [{'key': 2, 'length': 1, 'offset': 0}]                []  \n",
       "5      0     [{'key': 3, 'length': 1, 'offset': 0}]                []  \n",
       "6      0     [{'key': 4, 'length': 6, 'offset': 0}]                []  \n",
       "7      0  [{'key': 5, 'length': 46, 'offset': 337}]                []  \n",
       "8      0     [{'key': 6, 'length': 1, 'offset': 0}]                []  \n",
       "9      0                                         []                []  "
      ]
     },
     "execution_count": 88,
     "metadata": {},
     "output_type": "execute_result"
    }
   ],
   "source": [
    "df = pd.DataFrame(blocks)\n",
    "df.head(10)"
   ]
  },
  {
   "cell_type": "code",
   "execution_count": 89,
   "metadata": {},
   "outputs": [
    {
     "data": {
      "text/html": [
       "<div>\n",
       "<style scoped>\n",
       "    .dataframe tbody tr th:only-of-type {\n",
       "        vertical-align: middle;\n",
       "    }\n",
       "\n",
       "    .dataframe tbody tr th {\n",
       "        vertical-align: top;\n",
       "    }\n",
       "\n",
       "    .dataframe thead th {\n",
       "        text-align: right;\n",
       "    }\n",
       "</style>\n",
       "<table border=\"1\" class=\"dataframe\">\n",
       "  <thead>\n",
       "    <tr style=\"text-align: right;\">\n",
       "      <th></th>\n",
       "      <th>key</th>\n",
       "      <th>data</th>\n",
       "      <th>text</th>\n",
       "      <th>type</th>\n",
       "      <th>depth</th>\n",
       "      <th>entityRanges</th>\n",
       "      <th>inlineStyleRanges</th>\n",
       "    </tr>\n",
       "  </thead>\n",
       "  <tbody>\n",
       "    <tr>\n",
       "      <th>0</th>\n",
       "      <td>c0u3k</td>\n",
       "      <td>{}</td>\n",
       "      <td>Podczas gdy PiS ucieka od tematu aborcji, chcą...</td>\n",
       "      <td>unstyled</td>\n",
       "      <td>0</td>\n",
       "      <td>[]</td>\n",
       "      <td>[]</td>\n",
       "    </tr>\n",
       "    <tr>\n",
       "      <th>2</th>\n",
       "      <td>52e7f</td>\n",
       "      <td>{}</td>\n",
       "      <td></td>\n",
       "      <td>unstyled</td>\n",
       "      <td>0</td>\n",
       "      <td>[]</td>\n",
       "      <td>[]</td>\n",
       "    </tr>\n",
       "    <tr>\n",
       "      <th>6</th>\n",
       "      <td>95vk3</td>\n",
       "      <td>{}</td>\n",
       "      <td>Sondaż pokazuje na słabnący wpływ katolickiej ...</td>\n",
       "      <td>unstyled</td>\n",
       "      <td>0</td>\n",
       "      <td>[{'key': 4, 'length': 6, 'offset': 0}]</td>\n",
       "      <td>[]</td>\n",
       "    </tr>\n",
       "    <tr>\n",
       "      <th>7</th>\n",
       "      <td>86fk5</td>\n",
       "      <td>{}</td>\n",
       "      <td>Od 1993 roku (z półroczna przerwą w 1997) obow...</td>\n",
       "      <td>unstyled</td>\n",
       "      <td>0</td>\n",
       "      <td>[{'key': 5, 'length': 46, 'offset': 337}]</td>\n",
       "      <td>[]</td>\n",
       "    </tr>\n",
       "    <tr>\n",
       "      <th>9</th>\n",
       "      <td>cqo55</td>\n",
       "      <td>{}</td>\n",
       "      <td></td>\n",
       "      <td>unstyled</td>\n",
       "      <td>0</td>\n",
       "      <td>[]</td>\n",
       "      <td>[]</td>\n",
       "    </tr>\n",
       "  </tbody>\n",
       "</table>\n",
       "</div>"
      ],
      "text/plain": [
       "     key data                                               text      type  \\\n",
       "0  c0u3k   {}  Podczas gdy PiS ucieka od tematu aborcji, chcą...  unstyled   \n",
       "2  52e7f   {}                                                     unstyled   \n",
       "6  95vk3   {}  Sondaż pokazuje na słabnący wpływ katolickiej ...  unstyled   \n",
       "7  86fk5   {}  Od 1993 roku (z półroczna przerwą w 1997) obow...  unstyled   \n",
       "9  cqo55   {}                                                     unstyled   \n",
       "\n",
       "   depth                               entityRanges inlineStyleRanges  \n",
       "0      0                                         []                []  \n",
       "2      0                                         []                []  \n",
       "6      0     [{'key': 4, 'length': 6, 'offset': 0}]                []  \n",
       "7      0  [{'key': 5, 'length': 46, 'offset': 337}]                []  \n",
       "9      0                                         []                []  "
      ]
     },
     "execution_count": 89,
     "metadata": {},
     "output_type": "execute_result"
    }
   ],
   "source": [
    "df = df[(df['type'] == 'unstyled')]\n",
    "df.head()"
   ]
  },
  {
   "cell_type": "code",
   "execution_count": 90,
   "metadata": {},
   "outputs": [
    {
     "name": "stdout",
     "output_type": "stream",
     "text": [
      "7665\n"
     ]
    }
   ],
   "source": [
    "letters = 0\n",
    "\n",
    "df_text = df['text']\n",
    "\n",
    "for letter in df_text:\n",
    "    znaki = len(letter)\n",
    "    letters = letters + znaki\n",
    "\n",
    "\n",
    "print(letters)"
   ]
  },
  {
   "cell_type": "markdown",
   "metadata": {},
   "source": [
    "### 2. Użycie każdego znaku (type = \"unstyled\")."
   ]
  },
  {
   "cell_type": "code",
   "execution_count": 91,
   "metadata": {},
   "outputs": [],
   "source": [
    "freq = {}\n",
    "\n",
    "for letter in df_text:\n",
    "    for x in letter.lower():\n",
    "        if x in freq.keys():\n",
    "            freq[x] = freq[x] + 1\n",
    "        else:\n",
    "            freq[x] = 1\n"
   ]
  },
  {
   "cell_type": "code",
   "execution_count": 92,
   "metadata": {},
   "outputs": [
    {
     "data": {
      "text/plain": [
       "{'p': 244,\n",
       " 'o': 535,\n",
       " 'd': 220,\n",
       " 'c': 280,\n",
       " 'z': 310,\n",
       " 'a': 564,\n",
       " 's': 248,\n",
       " ' ': 1107,\n",
       " 'g': 71,\n",
       " 'y': 254,\n",
       " 'i': 498,\n",
       " 'u': 114,\n",
       " 'e': 460,\n",
       " 'k': 187,\n",
       " 't': 237,\n",
       " 'm': 120,\n",
       " 'b': 123,\n",
       " 'r': 289,\n",
       " 'j': 176,\n",
       " ',': 74,\n",
       " 'h': 51,\n",
       " 'ą': 58,\n",
       " 'ć': 22,\n",
       " 'w': 308,\n",
       " 'ó': 38,\n",
       " 'ś': 33,\n",
       " 'ł': 89,\n",
       " 'n': 325,\n",
       " 'ę': 54,\n",
       " 'ż': 75,\n",
       " '\"': 42,\n",
       " 'l': 123,\n",
       " '.': 89,\n",
       " '2': 27,\n",
       " '0': 41,\n",
       " '1': 28,\n",
       " '8': 10,\n",
       " '5': 11,\n",
       " '9': 12,\n",
       " '3': 13,\n",
       " '(': 14,\n",
       " '7': 4,\n",
       " ')': 14,\n",
       " ':': 4,\n",
       " 'f': 5,\n",
       " '-': 22,\n",
       " '4': 11,\n",
       " '[': 2,\n",
       " '=': 1,\n",
       " ']': 2,\n",
       " '/': 4,\n",
       " 'ź': 5,\n",
       " '\\\\': 1,\n",
       " '6': 8,\n",
       " 'ń': 7,\n",
       " '!': 1}"
      ]
     },
     "execution_count": 92,
     "metadata": {},
     "output_type": "execute_result"
    }
   ],
   "source": [
    "freq"
   ]
  },
  {
   "cell_type": "markdown",
   "metadata": {},
   "source": [
    "### 3. Ilość linków (entityMap -> type = \"LINK\")."
   ]
  },
  {
   "cell_type": "code",
   "execution_count": 141,
   "metadata": {},
   "outputs": [],
   "source": [
    "entityMap = data['entityMap']"
   ]
  },
  {
   "cell_type": "code",
   "execution_count": 147,
   "metadata": {},
   "outputs": [],
   "source": [
    "def amount(table, type):\n",
    "    m = len(table) + 1\n",
    "    n = 0\n",
    "    values = []\n",
    "    while n < m:\n",
    "        try:\n",
    "            if entityMap[str(n)]['type'] == str(type):\n",
    "                values.append(entityMap[str(n)]['type'])\n",
    "                n = n + 1\n",
    "            else:\n",
    "                n = n + 1\n",
    "        except KeyError:\n",
    "            n = n + 1\n",
    "    return len(values)"
   ]
  },
  {
   "cell_type": "code",
   "execution_count": 148,
   "metadata": {},
   "outputs": [
    {
     "data": {
      "text/plain": [
       "13"
      ]
     },
     "execution_count": 148,
     "metadata": {},
     "output_type": "execute_result"
    }
   ],
   "source": [
    "amount(entityMap, 'LINK')"
   ]
  },
  {
   "cell_type": "markdown",
   "metadata": {},
   "source": [
    "### 4. Ilość zdjęć w tekście (entityMap -> type = \"IMAGE\")."
   ]
  },
  {
   "cell_type": "code",
   "execution_count": 149,
   "metadata": {},
   "outputs": [
    {
     "data": {
      "text/plain": [
       "10"
      ]
     },
     "execution_count": 149,
     "metadata": {},
     "output_type": "execute_result"
    }
   ],
   "source": [
    "amount(entityMap, 'IMAGE')"
   ]
  },
  {
   "cell_type": "markdown",
   "metadata": {},
   "source": [
    "### 5. Spis Id artykułów powiązanych (entityMap -> type = \"RELATED_CONTENTS\")."
   ]
  },
  {
   "cell_type": "code",
   "execution_count": 152,
   "metadata": {},
   "outputs": [
    {
     "name": "stdout",
     "output_type": "stream",
     "text": [
      "[['213ed3dd-800d-4b9b-abab-8a99e4e3cba7'], ['6bed0d13-44db-40f4-8481-4b415bb8cd76']]\n"
     ]
    }
   ],
   "source": [
    "\n",
    "m = len(entityMap) + 1\n",
    "n = 0\n",
    "values = []\n",
    "while n < m:\n",
    "    try:\n",
    "        if entityMap[str(n)]['type'] == 'RELATED_CONTENTS':\n",
    "            values.append(entityMap[str(n)]['data']['nodes'])\n",
    "            n = n + 1\n",
    "        else:\n",
    "            n = n + 1\n",
    "    except KeyError:\n",
    "        n = n + 1\n",
    "\n",
    "print(values)"
   ]
  }
 ],
 "metadata": {
  "kernelspec": {
   "display_name": "Python 3.10.7 64-bit",
   "language": "python",
   "name": "python3"
  },
  "language_info": {
   "codemirror_mode": {
    "name": "ipython",
    "version": 3
   },
   "file_extension": ".py",
   "mimetype": "text/x-python",
   "name": "python",
   "nbconvert_exporter": "python",
   "pygments_lexer": "ipython3",
   "version": "3.10.7"
  },
  "orig_nbformat": 4,
  "vscode": {
   "interpreter": {
    "hash": "aee8b7b246df8f9039afb4144a1f6fd8d2ca17a180786b69acc140d282b71a49"
   }
  }
 },
 "nbformat": 4,
 "nbformat_minor": 2
}
